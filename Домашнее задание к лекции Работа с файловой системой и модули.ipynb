{
 "cells": [
  {
   "cell_type": "markdown",
   "metadata": {},
   "source": [
    "### Переведите содержимое файла purchase_log.txt в словарь purchases вида: {‘1840e0b9d4’: ‘Продукты’, …}"
   ]
  },
  {
   "cell_type": "code",
   "execution_count": 54,
   "metadata": {
    "scrolled": false
   },
   "outputs": [
    {
     "name": "stdout",
     "output_type": "stream",
     "text": [
      "99518\n"
     ]
    }
   ],
   "source": [
    "import json\n",
    "purchases = {}\n",
    "\n",
    "i = 0\n",
    "content = open('purchase_log.txt','r',encoding = 'utf_8')\n",
    "purch_data = content.readlines()\n",
    "content.close()     \n",
    "\n",
    "for line in purch_data:\n",
    "    \n",
    "    new_dict_items = json.loads(line.strip())\n",
    "    key = new_dict_items['user_id']\n",
    "    value = new_dict_items['category']\n",
    "    \n",
    "    purchases[key] = value\n",
    "    \n",
    "        \n",
    "print(len(purchases))"
   ]
  },
  {
   "cell_type": "markdown",
   "metadata": {},
   "source": [
    "### Процерка словаря"
   ]
  },
  {
   "cell_type": "code",
   "execution_count": null,
   "metadata": {},
   "outputs": [],
   "source": [
    "q = 0 \n",
    "for key, value in purchases.items():\n",
    "    print(key, value)\n",
    "    q+=1\n",
    "    \n",
    "    if q>5:\n",
    "        break"
   ]
  },
  {
   "cell_type": "markdown",
   "metadata": {},
   "source": [
    "### Для каждого user_id в файле visit_log.csv определите третий столбец с категорией покупки (если покупка была, сам файл visit_log.csv изменять не надо). Запишите в файл funnel.csv визиты из файла visit_log.csv, в которых были покупки с указанием категории."
   ]
  },
  {
   "cell_type": "code",
   "execution_count": 83,
   "metadata": {},
   "outputs": [],
   "source": [
    "with open('visit_log.csv', 'r', encoding = 'utf-8') as visits:\n",
    "    with open('funnel.csv','w') as result:\n",
    "   \n",
    "\n",
    "        for lines in visits:\n",
    "            visit_l = lines.strip().split(',')\n",
    "\n",
    "           \n",
    "\n",
    "            if str(purchases.get(visit_l[0],'fail')) != 'fail':\n",
    "                cat = purchases.get(visit_l[0])\n",
    "                key_f= visit_l[0]\n",
    "                source_f = visit_l[1]\n",
    "\n",
    "                list_ =f\"{key_f},{source_f},{cat}\\n\" \n",
    "               \n",
    "                result.write(list_)\n",
    "            else:\n",
    "                pass\n",
    "    result.close()\n",
    "visits.close()"
   ]
  },
  {
   "cell_type": "code",
   "execution_count": null,
   "metadata": {},
   "outputs": [],
   "source": []
  }
 ],
 "metadata": {
  "kernelspec": {
   "display_name": "Python 3",
   "language": "python",
   "name": "python3"
  },
  "language_info": {
   "codemirror_mode": {
    "name": "ipython",
    "version": 3
   },
   "file_extension": ".py",
   "mimetype": "text/x-python",
   "name": "python",
   "nbconvert_exporter": "python",
   "pygments_lexer": "ipython3",
   "version": "3.8.3"
  }
 },
 "nbformat": 4,
 "nbformat_minor": 4
}
